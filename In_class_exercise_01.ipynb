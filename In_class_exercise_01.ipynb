{
  "nbformat": 4,
  "nbformat_minor": 0,
  "metadata": {
    "colab": {
      "provenance": [],
      "authorship_tag": "ABX9TyNhWqS326y6ppMJCyZyH1jC",
      "include_colab_link": true
    },
    "kernelspec": {
      "name": "python3",
      "display_name": "Python 3"
    },
    "language_info": {
      "name": "python"
    }
  },
  "cells": [
    {
      "cell_type": "markdown",
      "metadata": {
        "id": "view-in-github",
        "colab_type": "text"
      },
      "source": [
        "<a href=\"https://colab.research.google.com/github/Sainithinreddyk/SaiNithinReddy_INFO5731_-Fall2021/blob/main/In_class_exercise_01.ipynb\" target=\"_parent\"><img src=\"https://colab.research.google.com/assets/colab-badge.svg\" alt=\"Open In Colab\"/></a>"
      ]
    },
    {
      "cell_type": "markdown",
      "source": [
        "In class exercise"
      ],
      "metadata": {
        "id": "yL2VIs2ustAE"
      }
    },
    {
      "cell_type": "code",
      "execution_count": 1,
      "metadata": {
        "colab": {
          "base_uri": "https://localhost:8080/"
        },
        "id": "2-_U0_0-sE7f",
        "outputId": "198865ea-362e-4ed8-8859-3169420df265"
      },
      "outputs": [
        {
          "output_type": "stream",
          "name": "stdout",
          "text": [
            "Intersection of two lists is: {180, 12}\n"
          ]
        }
      ],
      "source": [
        "p = [13,67,83,35,180,12]\n",
        "q = [21,12,55,12,22,60,180]\n",
        "\n",
        "intersect = []\n",
        "\n",
        "for i in p:\n",
        "    if i in q:\n",
        "        intersect.append(i)\n",
        "print(\"Intersection of two lists is:\",set(intersect))"
      ]
    }
  ]
}