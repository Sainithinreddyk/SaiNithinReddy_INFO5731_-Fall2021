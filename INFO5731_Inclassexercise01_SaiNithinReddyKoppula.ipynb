{
  "nbformat": 4,
  "nbformat_minor": 0,
  "metadata": {
    "colab": {
      "provenance": [],
      "authorship_tag": "ABX9TyPqst/I+4oc27Ri4EFoSjFc",
      "include_colab_link": true
    },
    "kernelspec": {
      "name": "python3",
      "display_name": "Python 3"
    },
    "language_info": {
      "name": "python"
    }
  },
  "cells": [
    {
      "cell_type": "markdown",
      "metadata": {
        "id": "view-in-github",
        "colab_type": "text"
      },
      "source": [
        "<a href=\"https://colab.research.google.com/github/Sainithinreddyk/SaiNithinReddy_INFO5731_-Spring2023/blob/main/INFO5731_Inclassexercise01_SaiNithinReddyKoppula.ipynb\" target=\"_parent\"><img src=\"https://colab.research.google.com/assets/colab-badge.svg\" alt=\"Open In Colab\"/></a>"
      ]
    },
    {
      "cell_type": "markdown",
      "source": [
        "# **INFO 5731 IN CLASS EXERCISE-01**\n",
        "###                             **K.Sai Nithin Reddy(11599559)**"
      ],
      "metadata": {
        "id": "LFOHJjLsL5tB"
      }
    },
    {
      "cell_type": "markdown",
      "source": [
        "1. Length of string"
      ],
      "metadata": {
        "id": "obz0N_cGMfyw"
      }
    },
    {
      "cell_type": "code",
      "execution_count": 68,
      "metadata": {
        "colab": {
          "base_uri": "https://localhost:8080/"
        },
        "id": "Fy7uozYHL3Ol",
        "outputId": "26cc264b-9b31-419e-fd77-7fe72c156d01"
      },
      "outputs": [
        {
          "output_type": "stream",
          "name": "stdout",
          "text": [
            "The length of the taken string is: 6\n"
          ]
        }
      ],
      "source": [
        "#I have taken the sample string as Nithin in ex to caluculate the lenth of the ex using len\n",
        "ex= \"Nithin\"\n",
        "print(\"The length of the taken string is:\",len(ex))"
      ]
    },
    {
      "cell_type": "markdown",
      "source": [
        "2. Count the char in string"
      ],
      "metadata": {
        "id": "rYEYsS_FM6FU"
      }
    },
    {
      "cell_type": "code",
      "source": [
        "#To get the number of charecters in a given string from the string\n",
        "ex = \"sainithinreddy\"\n",
        "#To store thr charecters I have taken a empty set\n",
        "charCount = {}\n",
        "#Here itreation goes on and if an char is repeted it goes to for loop else it goes to else\n",
        "for i in ex:\n",
        "    if i in charCount:\n",
        "        charCount[i] += 1\n",
        "    else:\n",
        "        charCount[i] = 1\n",
        "#To sort the charecters \n",
        "sortCharCount = sorted(charCount.items(), key=lambda x:x[1], reverse=True)\n",
        "print(dict(sortCharCount))"
      ],
      "metadata": {
        "colab": {
          "base_uri": "https://localhost:8080/"
        },
        "id": "_vhSfqR1M_DF",
        "outputId": "a04aa24c-7e1e-4632-c293-686e1b16a55e"
      },
      "execution_count": 69,
      "outputs": [
        {
          "output_type": "stream",
          "name": "stdout",
          "text": [
            "{'i': 3, 'n': 2, 'd': 2, 's': 1, 'a': 1, 't': 1, 'h': 1, 'r': 1, 'e': 1, 'y': 1}\n"
          ]
        }
      ]
    },
    {
      "cell_type": "markdown",
      "source": [
        "3. Sum of List"
      ],
      "metadata": {
        "id": "Q0mDEubCOxVf"
      }
    },
    {
      "cell_type": "code",
      "source": [
        "#To print the sum of the list I have taken a list\n",
        "ex = [1,2,3,4]\n",
        "#Intially I assuemed sum as zero\n",
        "s=0\n",
        "#Here it iterates from 0 to n char and gets stored in s\n",
        "for i in range(0,len(ex)):\n",
        "  s+=+ex[i]\n",
        "print(\"Sum oflist using for loop is :\",s)\n",
        "\n",
        "x = [1,2,3,4,5]\n",
        "print(\"Sum of the list using sum method is:\",sum(x))"
      ],
      "metadata": {
        "colab": {
          "base_uri": "https://localhost:8080/"
        },
        "id": "glCNks1NO0si",
        "outputId": "0b0a01a6-5795-4853-b2b3-898dd0278109"
      },
      "execution_count": 70,
      "outputs": [
        {
          "output_type": "stream",
          "name": "stdout",
          "text": [
            "Sum oflist using for loop is : 10\n",
            "Sum of the list using sum method is: 15\n"
          ]
        }
      ]
    },
    {
      "cell_type": "markdown",
      "source": [
        "4. Replace first occurence with $"
      ],
      "metadata": {
        "id": "tbHe0a60Ppmb"
      }
    },
    {
      "cell_type": "code",
      "source": [
        "ex=\"nithin\"\n",
        "#Here I have taken o as the first char of the string\n",
        "o = ex[0]\n",
        "#Using replace method I have replaced the first char with $\n",
        "ex = ex.replace(o, '$')\n",
        "#Now our aim is to change the occurence of first char except first so I have taken the first char and then concatenated\n",
        "ex = o + ex[1:]\n",
        "print(ex)"
      ],
      "metadata": {
        "colab": {
          "base_uri": "https://localhost:8080/"
        },
        "id": "Oi2tKrDHPonc",
        "outputId": "58e50886-555d-4f58-f754-019d20ee88e7"
      },
      "execution_count": 71,
      "outputs": [
        {
          "output_type": "stream",
          "name": "stdout",
          "text": [
            "nithi$\n"
          ]
        }
      ]
    },
    {
      "cell_type": "markdown",
      "source": [
        " 5. O/P of S"
      ],
      "metadata": {
        "id": "9A6ARV5_QtIw"
      }
    },
    {
      "cell_type": "code",
      "source": [
        "#Reading the inputs a and b from console\n",
        "a=int(input())\n",
        "b=int(input())\n",
        "#To find the result of given Mathematical equation\n",
        "S=3.14*((1+a/b)**3)\n",
        "print(\"The value of S is:\",S)"
      ],
      "metadata": {
        "colab": {
          "base_uri": "https://localhost:8080/"
        },
        "id": "DIkgAutzQzY7",
        "outputId": "72546c8f-8532-40c7-a313-465c40f8f04e"
      },
      "execution_count": 72,
      "outputs": [
        {
          "output_type": "stream",
          "name": "stdout",
          "text": [
            "77\n",
            "88\n",
            "The value of S is: 20.6982421875\n"
          ]
        }
      ]
    },
    {
      "cell_type": "markdown",
      "source": [
        "6. Merge Dict"
      ],
      "metadata": {
        "id": "aigVtDeLRR1O"
      }
    },
    {
      "cell_type": "code",
      "source": [
        "#Here I have taken 3 sample dict as ex1,ex2,ex3\n",
        "ex1= {9:10, 6:20}\n",
        "ex2={4:30, 8:40}\n",
        "ex3={0:50,7:60}\n",
        "#To merge the dict I have used **\n",
        "print(\"Concat of dict is:\",{**ex1, **ex2, **ex3})\n"
      ],
      "metadata": {
        "colab": {
          "base_uri": "https://localhost:8080/"
        },
        "id": "58_JrpjLSCVM",
        "outputId": "eb9f8758-d79d-4053-f90f-b1a1899db629"
      },
      "execution_count": 73,
      "outputs": [
        {
          "output_type": "stream",
          "name": "stdout",
          "text": [
            "Concat of dict is: {9: 10, 6: 20, 4: 30, 8: 40, 0: 50, 7: 60}\n"
          ]
        }
      ]
    },
    {
      "cell_type": "markdown",
      "source": [
        "7.Element in tuple"
      ],
      "metadata": {
        "id": "hhGZkX1YTCx_"
      }
    },
    {
      "cell_type": "code",
      "source": [
        "#Here I have taken the saple input and I have checked if it exists or not in the tuple it returns True if it exits and False it it doesn't\n",
        "ex = (\"N\",\"I\",\"T\",\"H\",\"I\",\"N\",\"1\",\"9\",\"9\",\"9\")\n",
        "print(\"N\" in ex)\n",
        "print(\"U\" in ex)\n",
        "print(\"7\" in ex)\n",
        "print(\"H\" in ex)"
      ],
      "metadata": {
        "colab": {
          "base_uri": "https://localhost:8080/"
        },
        "id": "1HGcENXwTJtW",
        "outputId": "48eec747-93a9-4f33-d7a1-d3e9ef53f106"
      },
      "execution_count": 74,
      "outputs": [
        {
          "output_type": "stream",
          "name": "stdout",
          "text": [
            "True\n",
            "False\n",
            "False\n",
            "True\n"
          ]
        }
      ]
    },
    {
      "cell_type": "markdown",
      "source": [
        "8. Min and Max"
      ],
      "metadata": {
        "id": "fEQ0-Jr7TcEc"
      }
    },
    {
      "cell_type": "code",
      "source": [
        "#To finf the min and max in the set I have taken the set and found using the min and max methods\n",
        "ex =set([9,4,0,8,4,3,5,0,0,2])\n",
        "print(\"Minimum elememt in the Set:\",min(ex))\n",
        "print(\"Maximum elememt in the Set:\",max(ex))"
      ],
      "metadata": {
        "colab": {
          "base_uri": "https://localhost:8080/"
        },
        "id": "NpdUjw6CTidu",
        "outputId": "477aaea0-b143-4220-ee1d-e68cbe4d4325"
      },
      "execution_count": 75,
      "outputs": [
        {
          "output_type": "stream",
          "name": "stdout",
          "text": [
            "Minimum elememt in the Set: 0\n",
            "Maximum elememt in the Set: 9\n"
          ]
        }
      ]
    },
    {
      "cell_type": "markdown",
      "source": [
        "9. Divide the students into groups"
      ],
      "metadata": {
        "id": "uBsBuXI-USx2"
      }
    },
    {
      "cell_type": "code",
      "source": [
        "import random\n",
        "#Here I have imported random to divide the students into groups randomly\n",
        "from itertools import islice\n",
        "#Here I have imported islice to get the groups in the specific elements\n",
        "\n",
        "ll = ['vmb0067','pc0353','snd0097','yye0005','sg0940','bk0301','rak0120','rrk0058','spk0057','vl0135','nm0547','pn0159', 'msp0174','dd0420','ds0761','rs0850','ss1995','at0739','at0768','mv0299','tv0119','dy0091','py0080','ttp0037','hc0439','ri0094','pk0339', 'hn0145','mn0426']\n",
        "#Given list\n",
        "l = [4,4,6,5]\n",
        "#Division of groups\n",
        "random.shuffle(ll)\n",
        "#Shuffling the students\n",
        "sl = iter(ll)\n",
        "#Divinding into the groups mentioned\n",
        "print(\"The project division list is:\", [list(islice(sl, elem))for elem in l])\n"
      ],
      "metadata": {
        "colab": {
          "base_uri": "https://localhost:8080/"
        },
        "id": "TIyGlyixUZrz",
        "outputId": "ad45041a-84fa-44a4-b41f-b14b7f4a754b"
      },
      "execution_count": 76,
      "outputs": [
        {
          "output_type": "stream",
          "name": "stdout",
          "text": [
            "The project division list is: [['pc0353', 'ds0761', 'vmb0067', 'at0768'], ['yye0005', 'spk0057', 'nm0547', 'sg0940'], ['msp0174', 'snd0097', 'dy0091', 'hc0439', 'at0739', 'dd0420'], ['rrk0058', 'rak0120', 'pn0159', 'bk0301', 'ri0094']]\n"
          ]
        }
      ]
    },
    {
      "cell_type": "markdown",
      "source": [
        "10. Duplicates"
      ],
      "metadata": {
        "id": "1MVfBOWSVQDz"
      }
    },
    {
      "cell_type": "code",
      "source": [
        "#I have taken the sample array\n",
        "arr = [9,4,8,7,6]\n",
        "duplicates =[]\n",
        "#Here I am going to iterate and check the count if the count is more than 1 then it stores in the new list\n",
        "for i in arr:\n",
        "  if arr.count(i)>1 and arr.count(i)!=0:\n",
        "    if(i not in duplicates):\n",
        "      duplicates.append(i)\n",
        "#If count of duplicates is equal to zero then it returns -1 else it returns duplicates\n",
        "if len(duplicates)==0:\n",
        "  print(-1)\n",
        "else:\n",
        "  print(duplicates)\n"
      ],
      "metadata": {
        "colab": {
          "base_uri": "https://localhost:8080/"
        },
        "id": "qvsIjsO4Vj7H",
        "outputId": "73d77df6-499c-4ef0-c101-34b169a80364"
      },
      "execution_count": 77,
      "outputs": [
        {
          "output_type": "stream",
          "name": "stdout",
          "text": [
            "-1\n"
          ]
        }
      ]
    },
    {
      "cell_type": "markdown",
      "source": [
        "11. Sundays in a year"
      ],
      "metadata": {
        "id": "OtUhEIfyWNDB"
      }
    },
    {
      "cell_type": "code",
      "source": [
        "import pandas as pd\n",
        "#Here I have imported the pandas \n",
        "year = \"1999\"\n",
        "day = \"SUN\"\n",
        "#Data range returns the exact frequency of date time and series is used to get in the sequence\n",
        "#The parameters that I passed are start date and period as 52 as there are 52 weeks in a year and W-day i.e W-SUN refers to the sunday in a week\n",
        "days = pd.Series(pd.date_range(start = year + \"-01-01\", periods = 52, freq = \"W-\" + day))                   \n",
        "print(days)\n"
      ],
      "metadata": {
        "colab": {
          "base_uri": "https://localhost:8080/"
        },
        "id": "tRll9-VRWP_z",
        "outputId": "d4d469e9-81bc-4117-c4ef-2ddb388f1461"
      },
      "execution_count": 78,
      "outputs": [
        {
          "output_type": "stream",
          "name": "stdout",
          "text": [
            "0    1999-01-03\n",
            "1    1999-01-10\n",
            "2    1999-01-17\n",
            "3    1999-01-24\n",
            "4    1999-01-31\n",
            "5    1999-02-07\n",
            "6    1999-02-14\n",
            "7    1999-02-21\n",
            "8    1999-02-28\n",
            "9    1999-03-07\n",
            "10   1999-03-14\n",
            "11   1999-03-21\n",
            "12   1999-03-28\n",
            "13   1999-04-04\n",
            "14   1999-04-11\n",
            "15   1999-04-18\n",
            "16   1999-04-25\n",
            "17   1999-05-02\n",
            "18   1999-05-09\n",
            "19   1999-05-16\n",
            "20   1999-05-23\n",
            "21   1999-05-30\n",
            "22   1999-06-06\n",
            "23   1999-06-13\n",
            "24   1999-06-20\n",
            "25   1999-06-27\n",
            "26   1999-07-04\n",
            "27   1999-07-11\n",
            "28   1999-07-18\n",
            "29   1999-07-25\n",
            "30   1999-08-01\n",
            "31   1999-08-08\n",
            "32   1999-08-15\n",
            "33   1999-08-22\n",
            "34   1999-08-29\n",
            "35   1999-09-05\n",
            "36   1999-09-12\n",
            "37   1999-09-19\n",
            "38   1999-09-26\n",
            "39   1999-10-03\n",
            "40   1999-10-10\n",
            "41   1999-10-17\n",
            "42   1999-10-24\n",
            "43   1999-10-31\n",
            "44   1999-11-07\n",
            "45   1999-11-14\n",
            "46   1999-11-21\n",
            "47   1999-11-28\n",
            "48   1999-12-05\n",
            "49   1999-12-12\n",
            "50   1999-12-19\n",
            "51   1999-12-26\n",
            "dtype: datetime64[ns]\n"
          ]
        }
      ]
    }
  ]
}