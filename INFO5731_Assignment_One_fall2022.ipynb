{
  "cells": [
    {
      "cell_type": "markdown",
      "metadata": {
        "id": "view-in-github",
        "colab_type": "text"
      },
      "source": [
        "<a href=\"https://colab.research.google.com/github/Sainithinreddyk/SaiNithinReddy_INFO5731_-Spring2023/blob/main/INFO5731_Assignment_One_fall2022.ipynb\" target=\"_parent\"><img src=\"https://colab.research.google.com/assets/colab-badge.svg\" alt=\"Open In Colab\"/></a>"
      ]
    },
    {
      "cell_type": "markdown",
      "metadata": {
        "id": "Ryk8D1Q4Wsrp"
      },
      "source": [
        "# **INFO5731 Assignment One**\n",
        "                       by Sai nithin Reddy(11599559)"
      ]
    },
    {
      "cell_type": "markdown",
      "metadata": {
        "id": "90_NR8c5XGWc"
      },
      "source": [
        "# Question 1\n",
        "\n",
        "(20 points). Write a Python program to generate 12 random numbers between 1 and 100. Sort the list of numbers in ascending order and print it out. Sort the list of numbers in descending order and print it out. Calculate the average for the group and print it out."
      ]
    },
    {
      "cell_type": "code",
      "execution_count": 3,
      "metadata": {
        "colab": {
          "base_uri": "https://localhost:8080/"
        },
        "id": "5QX6bJjGWXY9",
        "outputId": "dd0659e9-9e6c-414e-8f6a-ce4fbc752dd0"
      },
      "outputs": [
        {
          "output_type": "stream",
          "name": "stdout",
          "text": [
            "Random Samples in Ascending Order: [11, 19, 20, 24, 34, 43, 55, 72, 83, 84, 97, 98]\n",
            "Random Samples in Descending order: [98, 97, 84, 83, 72, 55, 43, 34, 24, 20, 19, 11]\n",
            "Average of Random twelve samples: 53.333333333333336\n"
          ]
        }
      ],
      "source": [
        "# Your code here\n",
        "import random\n",
        "ex = random.sample(range(1,100),12)\n",
        "ex.sort()\n",
        "print(\"Random Samples in Ascending Order:\",ex)\n",
        "ex.sort(reverse=True)\n",
        "print(\"Random Samples in Descending order:\",ex)\n",
        "print(\"Average of Random twelve samples:\",(sum(ex)/12))"
      ]
    },
    {
      "cell_type": "markdown",
      "metadata": {
        "id": "1F_PZdH9Sh49"
      },
      "source": [
        "# Question 2\n",
        "(25 points). Write a program that will do the following string formatting tasks:\n",
        "\n",
        "(1) Ask the user to enter two sentences.\n",
        "\n",
        "(2) Make each sentence into a list. Each element in the list should correspond to a word in the sentence. For example, if the sentence is \"Alas! Am I alive? This is my first python program\", the program should print out ['Alas, '!', 'Am', 'I', 'alive, '?', 'This', 'is', 'my', 'first', 'python', 'program'].\n",
        "\n",
        "(3) Compare the two sentences. Print out a list of words that occur in both sentences.\n",
        "\n",
        "(4) Remove any punctuation from the sentence and print it back out. It should remove at least the following characters, but it can remove more: period(“.”), comma (“,”), semicolon (“;”), and colon (“:”)\n",
        "\n",
        "(5) Count the number of vowels in the sentences. Print out each vowel and the number of times it appears in the sentences, such as: a:2, e:1, i:0, etc"
      ]
    },
    {
      "cell_type": "code",
      "execution_count": 28,
      "metadata": {
        "id": "Y0oOSlsOS0cq",
        "colab": {
          "base_uri": "https://localhost:8080/"
        },
        "outputId": "1e2acbde-8740-4112-9db7-2be00b4ae6c0"
      },
      "outputs": [
        {
          "output_type": "stream",
          "name": "stdout",
          "text": [
            "He is a good person .\n",
            " He is intelligent  @\n",
            "Converting string1 to list ['He', 'is', 'a', 'good', 'person', '.']\n",
            "Converting string 2 into list ['He', 'is', 'intelligent', '@']\n",
            "Common words in two sentences\n",
            "He\n",
            "is\n",
            "String1 after removing punctations ['He', 'is', 'a', 'good', 'person']\n",
            "String2 after removing punctations ['He', 'is', 'intelligent']\n",
            "Vowels count {'e': 2, 'i': 1, 'a': 1, 'o': 3}\n",
            "Vowels count {'e': 3, 'i': 3}\n"
          ]
        }
      ],
      "source": [
        "# Your code here\n",
        "\n",
        "import string\n",
        "\n",
        "stn1 = input()\n",
        "stn2 = input()\n",
        "\n",
        "lst1 = stn1.split()\n",
        "print(\"Converting string1 to list\", lst1)\n",
        "lst2 = stn2.split()\n",
        "print(\"Converting string 2 into list\",lst2)\n",
        "#Comparison of two sentences\n",
        "print(\"Common words in two sentences\")\n",
        "for i in lst1:\n",
        "    for j in lst2:\n",
        "        if(i==j):\n",
        "            print(i)\n",
        "#To remove punctuation marks\n",
        "for i in lst1:\n",
        "    if i in string.punctuation:\n",
        "        lst1.remove(i)\n",
        "#print(' '.join(lst1))\n",
        "print(\"String1 after removing punctations\",lst1)\n",
        "for i in lst2:\n",
        "    if i in string.punctuation:\n",
        "        lst2.remove(i)\n",
        "#print(' '.join(lst2))\n",
        "print(\"String2 after removing punctations\",lst2)\n",
        "\n",
        "#To count the number of vowels\n",
        "def vowelCount(stn):\n",
        "    vowelCountStn1 = {}\n",
        "    vowelCountStn2 = {}\n",
        "    vowels = \"aeiou\"\n",
        "    for i in range(len(stn)):\n",
        "        for j in stn[i]:\n",
        "            if(j in \"aeiou\"):\n",
        "                if(j in vowelCountStn1):\n",
        "                    vowelCountStn1[j] =  vowelCountStn1[j] + 1\n",
        "                else:\n",
        "                    vowelCountStn1[j] = 1\n",
        "    print(\"Vowels count\", vowelCountStn1)\n",
        "    \n",
        "vowelCount(lst1)\n",
        "vowelCount(lst2)"
      ]
    },
    {
      "cell_type": "markdown",
      "metadata": {
        "id": "CmFoI4jDS9nx"
      },
      "source": [
        "# Question 3 \n",
        "\n",
        "(15 points). The formula that describes the volume V of a sphere with radius r is the following:\n",
        "\n",
        "$ V=\\frac{4}{3}\\ast\\ \\pi\\ast\\ r^3 $\n",
        "\n",
        "Write a program to calculate the value of V when r is in the range of 1–10. Output the result in the following format:\n",
        "\n",
        "\tr\tV\n",
        "\t1\t…\n",
        "\t2\t…\n",
        "\t3\t…\n"
      ]
    },
    {
      "cell_type": "code",
      "execution_count": 5,
      "metadata": {
        "id": "pEyqeioAT95b",
        "colab": {
          "base_uri": "https://localhost:8080/"
        },
        "outputId": "284fe4e5-3f95-40a9-879c-a4d7592b83ba"
      },
      "outputs": [
        {
          "output_type": "stream",
          "name": "stdout",
          "text": [
            "r    V\n",
            "1    5\n",
            "2    34\n",
            "3    114\n",
            "4    268\n",
            "5    524\n",
            "6    905\n",
            "7    1437\n",
            "8    2144\n",
            "9    3053\n",
            "10    4187\n"
          ]
        }
      ],
      "source": [
        "# Your code here\n",
        "import math\n",
        "print('r', \"  \",  'V')\n",
        "for r in range(1,11):\n",
        "  s=math.ceil((4*3.14*(r**3)/3))\n",
        "  print(r,\"  \",s)\n"
      ]
    },
    {
      "cell_type": "markdown",
      "metadata": {
        "id": "z3tBE7E-Xn5X"
      },
      "source": [
        "# Question 4\n",
        "\n",
        "(40 points). In the field of Data Science, data is often formatted as a comma-delimited (CSV) file, where each line in a file corresponds to a field's value. Refer to Chapter 9 (p. 106) for more information on comma-delimited files. To answer this question, you will need to download the file [Assignment1_denton_housing.csv](https://raw.githubusercontent.com/unt-iialab/info5731-spring2022/main/assignments/Assignment1_denton_housing.csv) included with this assignment. The file [Assignment1_denton_housing.csv](https://raw.githubusercontent.com/unt-iialab/info5731-spring2022/main/assignments/Assignment1_denton_housing.csv) contains statistics about housing in the city of Denton from 2008 to 2014. Write a program to implement the following questions.\n",
        "\n",
        "(1) (10 pts) Calculate the difference in the number of Occupied Housing Units from year to year and print it. The difference must be calculated for the consecutive years such as 2008-2009, 2009-2010 etc. Finally, print the values in the ascending order.\n",
        "\n",
        "(2) (10 pts) For all the years, calculate the percentage of housing units which are vacant an occupied. Print the results in the following format:\n",
        "\n",
        "Year Vacant Housing Units Occupied Housing Units\n",
        "\n",
        "    2008  30%   70%                          \n",
        "\t2009 ----- -----\n",
        "\t2010 ----- -----\n",
        "    2011 ----- -----\n",
        "\t2012 ----- -----\n",
        "    2013 ----- -----\n",
        "\t2014 ----- -----\n",
        "  \n",
        "  \n",
        "\n",
        "(3) (10 pts) Calculate and print the valued and years in which the highest number of housing units were vacant and occupied. Print the results in the following format:  \n",
        "\n",
        "                              Year\tValue\n",
        "\tVacant Housing Units\t  -----   -----\n",
        "\tOccupied Housing Units\t-----   -----\n",
        "\n",
        "(4) (10 pts) Calculate the harmonic mean of the total housing units and print it out. You can find the information about harmonic mean here: https://ncalculators.com/statistics/harmonic-mean-calculator.htm"
      ]
    },
    {
      "cell_type": "code",
      "execution_count": 19,
      "metadata": {
        "id": "lqGYuHBhcsRH"
      },
      "outputs": [],
      "source": [
        "# Your code here\n",
        "#Importing all the necessary libraries such as pandas and numpy to perform the data operations and imported matplotlib and seaborn to visualize and to ignore the warnings I have imported warnings\n",
        "import pandas as pan\n",
        "import warnings\n",
        "warnings.filterwarnings('ignore')\n",
        "import matplotlib.pyplot as plt\n",
        "%matplotlib inline\n",
        "import numpy as num\n",
        "import seaborn as sb\n",
        "import statistics\n"
      ]
    },
    {
      "cell_type": "code",
      "source": [
        "# I have loaded the data using the read.csv\n",
        "raw_data=pan.read_csv(\"Assignment1_denton_housing.csv\")\n",
        "#Using show the initial 10 rows I have used the head\n",
        "raw_data.head(10)"
      ],
      "metadata": {
        "id": "7a4Js7CUI70T",
        "colab": {
          "base_uri": "https://localhost:8080/",
          "height": 363
        },
        "outputId": "7c8f35c1-02c4-4efe-fb4d-7ef8df99c207"
      },
      "execution_count": 8,
      "outputs": [
        {
          "output_type": "execute_result",
          "data": {
            "text/plain": [
              "   year             title_field  value\n",
              "0  2014     Total Housing Units  49109\n",
              "1  2014    Vacant Housing Units   2814\n",
              "2  2014  Occupied Housing Units  46295\n",
              "3  2013     Total Housing Units  47888\n",
              "4  2013    Vacant Housing Units   4215\n",
              "5  2013  Occupied Housing Units  43673\n",
              "6  2012     Total Housing Units  45121\n",
              "7  2012    Vacant Housing Units   3013\n",
              "8  2012  Occupied Housing Units  42108\n",
              "9  2011     Total Housing Units  44917"
            ],
            "text/html": [
              "\n",
              "  <div id=\"df-f03e8f07-71cf-4e11-8afb-3fc6443f2c16\">\n",
              "    <div class=\"colab-df-container\">\n",
              "      <div>\n",
              "<style scoped>\n",
              "    .dataframe tbody tr th:only-of-type {\n",
              "        vertical-align: middle;\n",
              "    }\n",
              "\n",
              "    .dataframe tbody tr th {\n",
              "        vertical-align: top;\n",
              "    }\n",
              "\n",
              "    .dataframe thead th {\n",
              "        text-align: right;\n",
              "    }\n",
              "</style>\n",
              "<table border=\"1\" class=\"dataframe\">\n",
              "  <thead>\n",
              "    <tr style=\"text-align: right;\">\n",
              "      <th></th>\n",
              "      <th>year</th>\n",
              "      <th>title_field</th>\n",
              "      <th>value</th>\n",
              "    </tr>\n",
              "  </thead>\n",
              "  <tbody>\n",
              "    <tr>\n",
              "      <th>0</th>\n",
              "      <td>2014</td>\n",
              "      <td>Total Housing Units</td>\n",
              "      <td>49109</td>\n",
              "    </tr>\n",
              "    <tr>\n",
              "      <th>1</th>\n",
              "      <td>2014</td>\n",
              "      <td>Vacant Housing Units</td>\n",
              "      <td>2814</td>\n",
              "    </tr>\n",
              "    <tr>\n",
              "      <th>2</th>\n",
              "      <td>2014</td>\n",
              "      <td>Occupied Housing Units</td>\n",
              "      <td>46295</td>\n",
              "    </tr>\n",
              "    <tr>\n",
              "      <th>3</th>\n",
              "      <td>2013</td>\n",
              "      <td>Total Housing Units</td>\n",
              "      <td>47888</td>\n",
              "    </tr>\n",
              "    <tr>\n",
              "      <th>4</th>\n",
              "      <td>2013</td>\n",
              "      <td>Vacant Housing Units</td>\n",
              "      <td>4215</td>\n",
              "    </tr>\n",
              "    <tr>\n",
              "      <th>5</th>\n",
              "      <td>2013</td>\n",
              "      <td>Occupied Housing Units</td>\n",
              "      <td>43673</td>\n",
              "    </tr>\n",
              "    <tr>\n",
              "      <th>6</th>\n",
              "      <td>2012</td>\n",
              "      <td>Total Housing Units</td>\n",
              "      <td>45121</td>\n",
              "    </tr>\n",
              "    <tr>\n",
              "      <th>7</th>\n",
              "      <td>2012</td>\n",
              "      <td>Vacant Housing Units</td>\n",
              "      <td>3013</td>\n",
              "    </tr>\n",
              "    <tr>\n",
              "      <th>8</th>\n",
              "      <td>2012</td>\n",
              "      <td>Occupied Housing Units</td>\n",
              "      <td>42108</td>\n",
              "    </tr>\n",
              "    <tr>\n",
              "      <th>9</th>\n",
              "      <td>2011</td>\n",
              "      <td>Total Housing Units</td>\n",
              "      <td>44917</td>\n",
              "    </tr>\n",
              "  </tbody>\n",
              "</table>\n",
              "</div>\n",
              "      <button class=\"colab-df-convert\" onclick=\"convertToInteractive('df-f03e8f07-71cf-4e11-8afb-3fc6443f2c16')\"\n",
              "              title=\"Convert this dataframe to an interactive table.\"\n",
              "              style=\"display:none;\">\n",
              "        \n",
              "  <svg xmlns=\"http://www.w3.org/2000/svg\" height=\"24px\"viewBox=\"0 0 24 24\"\n",
              "       width=\"24px\">\n",
              "    <path d=\"M0 0h24v24H0V0z\" fill=\"none\"/>\n",
              "    <path d=\"M18.56 5.44l.94 2.06.94-2.06 2.06-.94-2.06-.94-.94-2.06-.94 2.06-2.06.94zm-11 1L8.5 8.5l.94-2.06 2.06-.94-2.06-.94L8.5 2.5l-.94 2.06-2.06.94zm10 10l.94 2.06.94-2.06 2.06-.94-2.06-.94-.94-2.06-.94 2.06-2.06.94z\"/><path d=\"M17.41 7.96l-1.37-1.37c-.4-.4-.92-.59-1.43-.59-.52 0-1.04.2-1.43.59L10.3 9.45l-7.72 7.72c-.78.78-.78 2.05 0 2.83L4 21.41c.39.39.9.59 1.41.59.51 0 1.02-.2 1.41-.59l7.78-7.78 2.81-2.81c.8-.78.8-2.07 0-2.86zM5.41 20L4 18.59l7.72-7.72 1.47 1.35L5.41 20z\"/>\n",
              "  </svg>\n",
              "      </button>\n",
              "      \n",
              "  <style>\n",
              "    .colab-df-container {\n",
              "      display:flex;\n",
              "      flex-wrap:wrap;\n",
              "      gap: 12px;\n",
              "    }\n",
              "\n",
              "    .colab-df-convert {\n",
              "      background-color: #E8F0FE;\n",
              "      border: none;\n",
              "      border-radius: 50%;\n",
              "      cursor: pointer;\n",
              "      display: none;\n",
              "      fill: #1967D2;\n",
              "      height: 32px;\n",
              "      padding: 0 0 0 0;\n",
              "      width: 32px;\n",
              "    }\n",
              "\n",
              "    .colab-df-convert:hover {\n",
              "      background-color: #E2EBFA;\n",
              "      box-shadow: 0px 1px 2px rgba(60, 64, 67, 0.3), 0px 1px 3px 1px rgba(60, 64, 67, 0.15);\n",
              "      fill: #174EA6;\n",
              "    }\n",
              "\n",
              "    [theme=dark] .colab-df-convert {\n",
              "      background-color: #3B4455;\n",
              "      fill: #D2E3FC;\n",
              "    }\n",
              "\n",
              "    [theme=dark] .colab-df-convert:hover {\n",
              "      background-color: #434B5C;\n",
              "      box-shadow: 0px 1px 3px 1px rgba(0, 0, 0, 0.15);\n",
              "      filter: drop-shadow(0px 1px 2px rgba(0, 0, 0, 0.3));\n",
              "      fill: #FFFFFF;\n",
              "    }\n",
              "  </style>\n",
              "\n",
              "      <script>\n",
              "        const buttonEl =\n",
              "          document.querySelector('#df-f03e8f07-71cf-4e11-8afb-3fc6443f2c16 button.colab-df-convert');\n",
              "        buttonEl.style.display =\n",
              "          google.colab.kernel.accessAllowed ? 'block' : 'none';\n",
              "\n",
              "        async function convertToInteractive(key) {\n",
              "          const element = document.querySelector('#df-f03e8f07-71cf-4e11-8afb-3fc6443f2c16');\n",
              "          const dataTable =\n",
              "            await google.colab.kernel.invokeFunction('convertToInteractive',\n",
              "                                                     [key], {});\n",
              "          if (!dataTable) return;\n",
              "\n",
              "          const docLinkHtml = 'Like what you see? Visit the ' +\n",
              "            '<a target=\"_blank\" href=https://colab.research.google.com/notebooks/data_table.ipynb>data table notebook</a>'\n",
              "            + ' to learn more about interactive tables.';\n",
              "          element.innerHTML = '';\n",
              "          dataTable['output_type'] = 'display_data';\n",
              "          await google.colab.output.renderOutput(dataTable, element);\n",
              "          const docLink = document.createElement('div');\n",
              "          docLink.innerHTML = docLinkHtml;\n",
              "          element.appendChild(docLink);\n",
              "        }\n",
              "      </script>\n",
              "    </div>\n",
              "  </div>\n",
              "  "
            ]
          },
          "metadata": {},
          "execution_count": 8
        }
      ]
    },
    {
      "cell_type": "code",
      "source": [
        "print(\" Number of null values in the data set:{} \".format(raw_data.isnull().sum()))"
      ],
      "metadata": {
        "colab": {
          "base_uri": "https://localhost:8080/"
        },
        "id": "LPDmcg3vcwu-",
        "outputId": "8d41ca9d-bfc8-4315-8a26-27bad7707a13"
      },
      "execution_count": 9,
      "outputs": [
        {
          "output_type": "stream",
          "name": "stdout",
          "text": [
            " Number of null values in the data set:year           0\n",
            "title_field    0\n",
            "value          0\n",
            "dtype: int64 \n"
          ]
        }
      ]
    },
    {
      "cell_type": "code",
      "source": [
        "raw_data.info()"
      ],
      "metadata": {
        "colab": {
          "base_uri": "https://localhost:8080/"
        },
        "id": "28tAri6Yc9A-",
        "outputId": "23e0ecca-d3f6-4244-c709-03743de5d3d9"
      },
      "execution_count": 10,
      "outputs": [
        {
          "output_type": "stream",
          "name": "stdout",
          "text": [
            "<class 'pandas.core.frame.DataFrame'>\n",
            "RangeIndex: 42 entries, 0 to 41\n",
            "Data columns (total 3 columns):\n",
            " #   Column       Non-Null Count  Dtype \n",
            "---  ------       --------------  ----- \n",
            " 0   year         42 non-null     int64 \n",
            " 1   title_field  42 non-null     object\n",
            " 2   value        42 non-null     int64 \n",
            "dtypes: int64(2), object(1)\n",
            "memory usage: 1.1+ KB\n"
          ]
        }
      ]
    },
    {
      "cell_type": "code",
      "source": [
        "f, ax = plt.subplots(1, 1, figsize=(12, 8))\n",
        "ax = sb.barplot(x='title_field', y='value', hue='year', data=raw_data, palette='cool')"
      ],
      "metadata": {
        "colab": {
          "base_uri": "https://localhost:8080/",
          "height": 498
        },
        "id": "3UL433vAeCm1",
        "outputId": "1b531cf1-2224-4ec0-dfdc-6ef4217b0a21"
      },
      "execution_count": 11,
      "outputs": [
        {
          "output_type": "display_data",
          "data": {
            "text/plain": [
              "<Figure size 864x576 with 1 Axes>"
            ],
            "image/png": "[encoded data removed]"
          },
          "metadata": {
            "needs_background": "light"
          }
        }
      ]
    },
    {
      "cell_type": "code",
      "source": [
        "plt.figure(figsize=(15,8))\n",
        "#And the figure shows that the darker the color the stronger the relationship and vise versa i.e. lighter the color weaker the relationship\n",
        "sb.heatmap(raw_data.corr(), fmt='.1f', annot=True, annot_kws={'size':6}, cmap='Blues')\n",
        "#And in the map we need  to ignore all the diagnol elements as they are same\n",
        "plt.show()"
      ],
      "metadata": {
        "colab": {
          "base_uri": "https://localhost:8080/",
          "height": 487
        },
        "id": "MIuiBNnUk0RJ",
        "outputId": "306ae29b-1cc8-4911-e6e0-af53dce8eb90"
      },
      "execution_count": 12,
      "outputs": [
        {
          "output_type": "display_data",
          "data": {
            "text/plain": [
              "<Figure size 1080x576 with 2 Axes>"
            ],
            "image/png": "[encoded data removed]"
          },
          "metadata": {
            "needs_background": "light"
          }
        }
      ]
    },
    {
      "cell_type": "code",
      "source": [
        "#From the title fied I have taken the Occupied housing units\n",
        "p=(raw_data[\"title_field\"]==\"Occupied Housing Units\")\n",
        "q=[\"title_field\", 'value']\n",
        "OH= raw_data.loc[p , q]\n",
        "# Here I have caluculated the difference from the consecuti ve years\n",
        "Diff_OH = pan.DataFrame([['2008-2009', 35916-36711],['2009-2010', 41007-35916],['2010-2011', 40704-41007],['2011-2012', 42108-40704],['2012-2013', 43673-42108],['2013-2014', 46295-43673]]  , columns = ['Years', 'Difference'])\n",
        "# And finally I hvae sorted the difference in the Ascending orders\n",
        "print(\"Occupied Housing units difference from the subsequent year\")\n",
        "print(Diff_OH .sort_values('Difference'))\n"
      ],
      "metadata": {
        "colab": {
          "base_uri": "https://localhost:8080/"
        },
        "id": "NzRPAwAblS52",
        "outputId": "f7f73f38-90a9-44b6-e6dc-fd172db6a642"
      },
      "execution_count": 24,
      "outputs": [
        {
          "output_type": "stream",
          "name": "stdout",
          "text": [
            "Occupied Housing units difference from the subsequent year\n",
            "       Years  Difference\n",
            "0  2008-2009        -795\n",
            "2  2010-2011        -303\n",
            "3  2011-2012        1404\n",
            "4  2012-2013        1565\n",
            "5  2013-2014        2622\n",
            "1  2009-2010        5091\n"
          ]
        }
      ]
    },
    {
      "cell_type": "code",
      "source": [
        "#Initially I have taken a daken frame a df to frame the data\n",
        "df=pan.DataFrame()\n",
        "#The first data frame I have taken is year and sorted the year to be unique\n",
        "df['year']=sorted(list(raw_data['year'].unique()))\n",
        "#From title fied I have selected Occupied Housing units\n",
        "OHU=raw_data[raw_data['title_field']=='Occupied Housing Units']\n",
        "#Now I have sorted by year\n",
        "Occupied_houses = OHU.sort_values(by=['year'])\n",
        "#Now I have done the same for Vacant Housing units\n",
        "VHU=raw_data[raw_data['title_field']=='Vacant Housing Units']\n",
        "Vacant_houses = VHU.sort_values(by=['year'])\n",
        "#Now I hvae taken the values\n",
        "df['Vacant Housing Units']=Vacant_houses['value'].values\n",
        "df['Occupied Housing Units']=Occupied_houses['value'].values\n",
        "#Here I have caluculated the perecentage of both vacant and occupied\n",
        "df['Percent of Vacant House'] = [(df['Vacant Housing Units'][loop1]*100)/\\\n",
        "                                         (df['Vacant Housing Units'][loop1]+df['Occupied Housing Units'][loop1])\\\n",
        "                                         for loop1 in range(len(df))]\n",
        "df['Percent of Occupied  House'] = [(df['Occupied Housing Units'][loop1]*100)/\\\n",
        "                                         (df['Vacant Housing Units'][loop1]+df['Occupied Housing Units'][loop1])\\\n",
        "                                         for loop1 in range(len(df))]\n",
        "df"
      ],
      "metadata": {
        "colab": {
          "base_uri": "https://localhost:8080/",
          "height": 269
        },
        "id": "ZaTI0OIdnPO1",
        "outputId": "8743f1a4-e8f4-4b19-cd55-512a5102aa47"
      },
      "execution_count": 26,
      "outputs": [
        {
          "output_type": "execute_result",
          "data": {
            "text/plain": [
              "   year  Vacant Housing Units  Occupied Housing Units  \\\n",
              "0  2008                  4483                   36711   \n",
              "1  2009                  3583                   35916   \n",
              "2  2010                  3635                   41007   \n",
              "3  2011                  4213                   40704   \n",
              "4  2012                  3013                   42108   \n",
              "5  2013                  4215                   43673   \n",
              "6  2014                  2814                   46295   \n",
              "\n",
              "   Percent of Vacant House  Percent of Occupied  House  \n",
              "0                10.882653                   89.117347  \n",
              "1                 9.071116                   90.928884  \n",
              "2                 8.142556                   91.857444  \n",
              "3                 9.379522                   90.620478  \n",
              "4                 6.677600                   93.322400  \n",
              "5                 8.801788                   91.198212  \n",
              "6                 5.730111                   94.269889  "
            ],
            "text/html": [
              "\n",
              "  <div id=\"df-7aa2cfb3-a480-42ea-b031-53e0c38fb929\">\n",
              "    <div class=\"colab-df-container\">\n",
              "      <div>\n",
              "<style scoped>\n",
              "    .dataframe tbody tr th:only-of-type {\n",
              "        vertical-align: middle;\n",
              "    }\n",
              "\n",
              "    .dataframe tbody tr th {\n",
              "        vertical-align: top;\n",
              "    }\n",
              "\n",
              "    .dataframe thead th {\n",
              "        text-align: right;\n",
              "    }\n",
              "</style>\n",
              "<table border=\"1\" class=\"dataframe\">\n",
              "  <thead>\n",
              "    <tr style=\"text-align: right;\">\n",
              "      <th></th>\n",
              "      <th>year</th>\n",
              "      <th>Vacant Housing Units</th>\n",
              "      <th>Occupied Housing Units</th>\n",
              "      <th>Percent of Vacant House</th>\n",
              "      <th>Percent of Occupied  House</th>\n",
              "    </tr>\n",
              "  </thead>\n",
              "  <tbody>\n",
              "    <tr>\n",
              "      <th>0</th>\n",
              "      <td>2008</td>\n",
              "      <td>4483</td>\n",
              "      <td>36711</td>\n",
              "      <td>10.882653</td>\n",
              "      <td>89.117347</td>\n",
              "    </tr>\n",
              "    <tr>\n",
              "      <th>1</th>\n",
              "      <td>2009</td>\n",
              "      <td>3583</td>\n",
              "      <td>35916</td>\n",
              "      <td>9.071116</td>\n",
              "      <td>90.928884</td>\n",
              "    </tr>\n",
              "    <tr>\n",
              "      <th>2</th>\n",
              "      <td>2010</td>\n",
              "      <td>3635</td>\n",
              "      <td>41007</td>\n",
              "      <td>8.142556</td>\n",
              "      <td>91.857444</td>\n",
              "    </tr>\n",
              "    <tr>\n",
              "      <th>3</th>\n",
              "      <td>2011</td>\n",
              "      <td>4213</td>\n",
              "      <td>40704</td>\n",
              "      <td>9.379522</td>\n",
              "      <td>90.620478</td>\n",
              "    </tr>\n",
              "    <tr>\n",
              "      <th>4</th>\n",
              "      <td>2012</td>\n",
              "      <td>3013</td>\n",
              "      <td>42108</td>\n",
              "      <td>6.677600</td>\n",
              "      <td>93.322400</td>\n",
              "    </tr>\n",
              "    <tr>\n",
              "      <th>5</th>\n",
              "      <td>2013</td>\n",
              "      <td>4215</td>\n",
              "      <td>43673</td>\n",
              "      <td>8.801788</td>\n",
              "      <td>91.198212</td>\n",
              "    </tr>\n",
              "    <tr>\n",
              "      <th>6</th>\n",
              "      <td>2014</td>\n",
              "      <td>2814</td>\n",
              "      <td>46295</td>\n",
              "      <td>5.730111</td>\n",
              "      <td>94.269889</td>\n",
              "    </tr>\n",
              "  </tbody>\n",
              "</table>\n",
              "</div>\n",
              "      <button class=\"colab-df-convert\" onclick=\"convertToInteractive('df-7aa2cfb3-a480-42ea-b031-53e0c38fb929')\"\n",
              "              title=\"Convert this dataframe to an interactive table.\"\n",
              "              style=\"display:none;\">\n",
              "        \n",
              "  <svg xmlns=\"http://www.w3.org/2000/svg\" height=\"24px\"viewBox=\"0 0 24 24\"\n",
              "       width=\"24px\">\n",
              "    <path d=\"M0 0h24v24H0V0z\" fill=\"none\"/>\n",
              "    <path d=\"M18.56 5.44l.94 2.06.94-2.06 2.06-.94-2.06-.94-.94-2.06-.94 2.06-2.06.94zm-11 1L8.5 8.5l.94-2.06 2.06-.94-2.06-.94L8.5 2.5l-.94 2.06-2.06.94zm10 10l.94 2.06.94-2.06 2.06-.94-2.06-.94-.94-2.06-.94 2.06-2.06.94z\"/><path d=\"M17.41 7.96l-1.37-1.37c-.4-.4-.92-.59-1.43-.59-.52 0-1.04.2-1.43.59L10.3 9.45l-7.72 7.72c-.78.78-.78 2.05 0 2.83L4 21.41c.39.39.9.59 1.41.59.51 0 1.02-.2 1.41-.59l7.78-7.78 2.81-2.81c.8-.78.8-2.07 0-2.86zM5.41 20L4 18.59l7.72-7.72 1.47 1.35L5.41 20z\"/>\n",
              "  </svg>\n",
              "      </button>\n",
              "      \n",
              "  <style>\n",
              "    .colab-df-container {\n",
              "      display:flex;\n",
              "      flex-wrap:wrap;\n",
              "      gap: 12px;\n",
              "    }\n",
              "\n",
              "    .colab-df-convert {\n",
              "      background-color: #E8F0FE;\n",
              "      border: none;\n",
              "      border-radius: 50%;\n",
              "      cursor: pointer;\n",
              "      display: none;\n",
              "      fill: #1967D2;\n",
              "      height: 32px;\n",
              "      padding: 0 0 0 0;\n",
              "      width: 32px;\n",
              "    }\n",
              "\n",
              "    .colab-df-convert:hover {\n",
              "      background-color: #E2EBFA;\n",
              "      box-shadow: 0px 1px 2px rgba(60, 64, 67, 0.3), 0px 1px 3px 1px rgba(60, 64, 67, 0.15);\n",
              "      fill: #174EA6;\n",
              "    }\n",
              "\n",
              "    [theme=dark] .colab-df-convert {\n",
              "      background-color: #3B4455;\n",
              "      fill: #D2E3FC;\n",
              "    }\n",
              "\n",
              "    [theme=dark] .colab-df-convert:hover {\n",
              "      background-color: #434B5C;\n",
              "      box-shadow: 0px 1px 3px 1px rgba(0, 0, 0, 0.15);\n",
              "      filter: drop-shadow(0px 1px 2px rgba(0, 0, 0, 0.3));\n",
              "      fill: #FFFFFF;\n",
              "    }\n",
              "  </style>\n",
              "\n",
              "      <script>\n",
              "        const buttonEl =\n",
              "          document.querySelector('#df-7aa2cfb3-a480-42ea-b031-53e0c38fb929 button.colab-df-convert');\n",
              "        buttonEl.style.display =\n",
              "          google.colab.kernel.accessAllowed ? 'block' : 'none';\n",
              "\n",
              "        async function convertToInteractive(key) {\n",
              "          const element = document.querySelector('#df-7aa2cfb3-a480-42ea-b031-53e0c38fb929');\n",
              "          const dataTable =\n",
              "            await google.colab.kernel.invokeFunction('convertToInteractive',\n",
              "                                                     [key], {});\n",
              "          if (!dataTable) return;\n",
              "\n",
              "          const docLinkHtml = 'Like what you see? Visit the ' +\n",
              "            '<a target=\"_blank\" href=https://colab.research.google.com/notebooks/data_table.ipynb>data table notebook</a>'\n",
              "            + ' to learn more about interactive tables.';\n",
              "          element.innerHTML = '';\n",
              "          dataTable['output_type'] = 'display_data';\n",
              "          await google.colab.output.renderOutput(dataTable, element);\n",
              "          const docLink = document.createElement('div');\n",
              "          docLink.innerHTML = docLinkHtml;\n",
              "          element.appendChild(docLink);\n",
              "        }\n",
              "      </script>\n",
              "    </div>\n",
              "  </div>\n",
              "  "
            ]
          },
          "metadata": {},
          "execution_count": 26
        }
      ]
    },
    {
      "cell_type": "code",
      "source": [
        "#To caluculate the highest number of vacanat and occupied unts\n",
        "#Intially I have taken Vacant housing units from title field\n",
        "vac_diff= raw_data[raw_data['title_field'] == 'Vacant Housing Units']\n",
        "#Now using pandas I have caluculated the highest number of vacant and occupied housing units\n",
        "vac = pan.concat([Occupied_houses[Occupied_houses['value'] == Occupied_houses['value'].max()],Vacant_houses[Vacant_houses['value'] == Vacant_houses['value'].max()]])\n",
        "print(\"Highest number of housing units vacant and occupied\")\n",
        "print(vac[['title_field','year','value']])"
      ],
      "metadata": {
        "colab": {
          "base_uri": "https://localhost:8080/"
        },
        "id": "Fz6qXwidsDNs",
        "outputId": "a24faf08-68b2-40b2-fe58-42c4862aab7c"
      },
      "execution_count": 23,
      "outputs": [
        {
          "output_type": "stream",
          "name": "stdout",
          "text": [
            "Highest number of housing units vacant and occupied\n",
            "               title_field  year  value\n",
            "2   Occupied Housing Units  2014  46295\n",
            "19    Vacant Housing Units  2008   4483\n"
          ]
        }
      ]
    },
    {
      "cell_type": "code",
      "source": [
        "#To caluculate the harmonic Mean of the total housing units\n",
        "print(\"Total housing units Harmonic Mean:\",statistics.harmonic_mean(list(raw_data[raw_data['title_field']=='Total Housing Units'].value)))"
      ],
      "metadata": {
        "colab": {
          "base_uri": "https://localhost:8080/"
        },
        "id": "aX9lYmVUlkXb",
        "outputId": "936b7902-9257-47a4-83fc-b488cdf83fea"
      },
      "execution_count": 22,
      "outputs": [
        {
          "output_type": "stream",
          "name": "stdout",
          "text": [
            "Total housing units Harmonic Mean: 44398.28543969185\n"
          ]
        }
      ]
    }
  ],
  "metadata": {
    "colab": {
      "provenance": [],
      "include_colab_link": true
    },
    "kernelspec": {
      "display_name": "Python 3 (ipykernel)",
      "language": "python",
      "name": "python3"
    },
    "language_info": {
      "codemirror_mode": {
        "name": "ipython",
        "version": 3
      },
      "file_extension": ".py",
      "mimetype": "text/x-python",
      "name": "python",
      "nbconvert_exporter": "python",
      "pygments_lexer": "ipython3",
      "version": "3.9.12"
    }
  },
  "nbformat": 4,
  "nbformat_minor": 0
}